{
 "cells": [
  {
   "cell_type": "code",
   "execution_count": 45,
   "id": "a4e9e10f-b680-49b3-ac67-601e7ea9b43c",
   "metadata": {},
   "outputs": [
    {
     "name": "stdout",
     "output_type": "stream",
     "text": [
      "[2, 1, 4, 3, 5]\n"
     ]
    }
   ],
   "source": [
    "# number 1\n",
    "\n",
    "a = [1, 2, 3, 4, 5]\n",
    "a[:2] = a[:2][::-1]\n",
    "a[2:4] = a[2:4][::-1]\n",
    "print(a)\n"
   ]
  },
  {
   "cell_type": "code",
   "execution_count": 46,
   "id": "04d955d0-a5b1-4dbc-a7f7-d6c3b5157293",
   "metadata": {},
   "outputs": [
    {
     "name": "stdout",
     "output_type": "stream",
     "text": [
      "[5, 1, 2, 3, 4]\n"
     ]
    }
   ],
   "source": [
    "# number 2\n",
    "\n",
    "a = [1, 2, 3, 4, 5]\n",
    "print(a[-1:] + a[:4])"
   ]
  },
  {
   "cell_type": "code",
   "execution_count": 47,
   "id": "966165fb-ed98-4f2a-bc73-52b10dc3283a",
   "metadata": {},
   "outputs": [
    {
     "name": "stdout",
     "output_type": "stream",
     "text": [
      "1\n",
      "4\n"
     ]
    }
   ],
   "source": [
    "# number 3\n",
    "\n",
    "a = [1, 4, 2, 2, 3, 3, 3]\n",
    "for x in a:\n",
    "    if a.count(x) == 1:\n",
    "        print(x)\n",
    "\n"
   ]
  },
  {
   "cell_type": "code",
   "execution_count": 58,
   "id": "0fb41585-ce3b-4ddd-9591-a49071fb3dc2",
   "metadata": {},
   "outputs": [
    {
     "name": "stdout",
     "output_type": "stream",
     "text": [
      "3\n"
     ]
    }
   ],
   "source": [
    "# number 4\n",
    "a = [1, 2, 3, 2, 3, 3]\n",
    "k = 0\n",
    "for x in a:\n",
    "    c = a.count(x)\n",
    "    if c > k:\n",
    "        k = c\n",
    "        f = x\n",
    "\n",
    "print(f)\n",
    "        \n",
    "    \n",
    "    \n",
    "    \n",
    "\n",
    "            \n",
    "        "
   ]
  },
  {
   "cell_type": "code",
   "execution_count": null,
   "id": "28022017-d301-473a-9520-1c96b3ab0d4d",
   "metadata": {},
   "outputs": [],
   "source": []
  },
  {
   "cell_type": "code",
   "execution_count": null,
   "id": "7bd6bb00-6061-4f6a-b4ee-680f1b7edc35",
   "metadata": {},
   "outputs": [],
   "source": []
  }
 ],
 "metadata": {
  "kernelspec": {
   "display_name": "Python 3 (ipykernel)",
   "language": "python",
   "name": "python3"
  },
  "language_info": {
   "codemirror_mode": {
    "name": "ipython",
    "version": 3
   },
   "file_extension": ".py",
   "mimetype": "text/x-python",
   "name": "python",
   "nbconvert_exporter": "python",
   "pygments_lexer": "ipython3",
   "version": "3.12.4"
  }
 },
 "nbformat": 4,
 "nbformat_minor": 5
}
