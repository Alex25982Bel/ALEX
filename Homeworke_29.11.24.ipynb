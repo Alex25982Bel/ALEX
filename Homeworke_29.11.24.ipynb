{
 "cells": [
  {
   "cell_type": "code",
   "execution_count": 20,
   "id": "4051bc89-6972-409f-923f-4db67575685b",
   "metadata": {},
   "outputs": [
    {
     "name": "stdout",
     "output_type": "stream",
     "text": [
      "0:00:00.056821\n",
      "1229\n"
     ]
    }
   ],
   "source": [
    "from datetime import datetime\n",
    "\n",
    "def timeit(func):\n",
    "    def wrapper():\n",
    "        start = datetime.now()\n",
    "        result = func()\n",
    "        print(datetime.now() - start)\n",
    "        return result\n",
    "    return wrapper\n",
    "\n",
    "@timeit\n",
    "def prime_numbers():\n",
    "    N = 10 ** 4\n",
    "    a = [x for x in range(2, N)]\n",
    "    b = []\n",
    "    \n",
    "    for y in a:\n",
    "        f = 0\n",
    "        for i in range(2, int(y ** 0.5) + 1):\n",
    "            if y % i == 0:\n",
    "                f = 1\n",
    "        if f != 1:\n",
    "            b.append(y)\n",
    "        \n",
    "    return len(b)\n",
    "\n",
    "            \n",
    "p = prime_numbers()\n",
    "\n",
    "print(p)"
   ]
  },
  {
   "cell_type": "code",
   "execution_count": 22,
   "id": "bf4541d9-2c34-476a-bd5b-c3b863721208",
   "metadata": {},
   "outputs": [
    {
     "name": "stdout",
     "output_type": "stream",
     "text": [
      "Country: Great Britain, population: 9.648110 millions, density_of_population: 5667 people/kilometer, City_landmark: Tower Bridge\n"
     ]
    }
   ],
   "source": [
    "class London():\n",
    "    def __init__(self, Country, population, density_of_population, City_landmark):\n",
    "        self._Country = Country\n",
    "        self._population = population\n",
    "        self._density_of_population = density_of_population\n",
    "        self._City_landmark = City_landmark\n",
    "    @property\n",
    "    def Country(self):\n",
    "        return self._Country\n",
    "\n",
    "    @property\n",
    "    def population(self):\n",
    "        return self._population\n",
    "\n",
    "    @property\n",
    "    def density_of_population(self):\n",
    "        return self._density_of_population\n",
    "\n",
    "    @property\n",
    "    def City_landmark(self):\n",
    "        return self._City_landmark\n",
    "\n",
    "    def information(self):\n",
    "        print(f\"Country: {self._Country}, population: {self._population}, density_of_population: {self._density_of_population}, City_landmark: {self._City_landmark}\")\n",
    "\n",
    "\n",
    "\n",
    "City = London(\"Great Britain\", \"9.648110 millions\", \"5667 people/kilometer\", \"Tower Bridge\")  \n",
    "\n",
    "City.information()\n",
    "    "
   ]
  },
  {
   "cell_type": "code",
   "execution_count": null,
   "id": "56828fca-107e-4b6e-8f81-c4e5604dd772",
   "metadata": {},
   "outputs": [],
   "source": []
  },
  {
   "cell_type": "code",
   "execution_count": null,
   "id": "da98d24a-9fbb-41b7-a537-c7f620a47e1f",
   "metadata": {},
   "outputs": [],
   "source": []
  },
  {
   "cell_type": "code",
   "execution_count": null,
   "id": "c17f3339-84e1-49aa-b10c-6f7f2e16f1c6",
   "metadata": {},
   "outputs": [],
   "source": []
  }
 ],
 "metadata": {
  "kernelspec": {
   "display_name": "Python 3 (ipykernel)",
   "language": "python",
   "name": "python3"
  },
  "language_info": {
   "codemirror_mode": {
    "name": "ipython",
    "version": 3
   },
   "file_extension": ".py",
   "mimetype": "text/x-python",
   "name": "python",
   "nbconvert_exporter": "python",
   "pygments_lexer": "ipython3",
   "version": "3.12.4"
  }
 },
 "nbformat": 4,
 "nbformat_minor": 5
}
