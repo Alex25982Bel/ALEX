{
 "cells": [
  {
   "cell_type": "code",
   "execution_count": 21,
   "id": "7635fbc6-40b5-4d7b-a0ba-03b96c59e1df",
   "metadata": {},
   "outputs": [
    {
     "name": "stdout",
     "output_type": "stream",
     "text": [
      "False\n",
      "False\n",
      "True\n"
     ]
    }
   ],
   "source": [
    "from collections import defaultdict\n",
    "\n",
    "def f(words):\n",
    "    graph = defaultdict(int)\n",
    "    in_degree = defaultdict(int)\n",
    "    out_degree = defaultdict(int)\n",
    "\n",
    "\n",
    "    for x in words:\n",
    "        first, last = x[0], x[-1]\n",
    "        out_degree[first] += 1\n",
    "        in_degree[last] += 1\n",
    "        graph[first] += 1\n",
    "        graph[last] += 1\n",
    "\n",
    "    start, finish = 0, 0\n",
    "    for l in graph:\n",
    "        delta = out_degree[l] - in_degree[l]\n",
    "\n",
    "        if delta == 1:\n",
    "            start += 1\n",
    "\n",
    "        elif delta == -1:\n",
    "            finish += 1\n",
    "\n",
    "        elif abs(delta) > 1:\n",
    "            return False\n",
    "\n",
    "    return  (start == 0 and finish == 0) or (start == 1 and  finish == 1)\n",
    "\n",
    "\n",
    "print(f([\"london\", \"newyork\", \"klin\", \"vienna\"])) \n",
    "print(f([\"paris\", \"london\", \"moscow\"]))  \n",
    "print(f([\"paris\", \"sydney\", \"york\", \"kyoto\"]))"
   ]
  },
  {
   "cell_type": "code",
   "execution_count": 22,
   "id": "8a5135ab-eea9-440e-a308-22216ae4c355",
   "metadata": {},
   "outputs": [
    {
     "name": "stdout",
     "output_type": "stream",
     "text": [
      "2\n",
      "3\n",
      "-1\n"
     ]
    }
   ],
   "source": [
    "def f(n, Trust):\n",
    "\n",
    "    lst = list(0 for i in range(1, n + 2))\n",
    "\n",
    "    for (x, y) in Trust:\n",
    "        lst[x] -= 1\n",
    "        lst[y] += 1\n",
    "\n",
    "    for i in range(1, len(lst)):\n",
    "        if lst[i] == n - 1:\n",
    "            return i\n",
    "\n",
    "    return -1\n",
    "        \n",
    "print(f(2, [[1,2]]))\n",
    "print(f(3, [[1, 3], [2, 3]]))  \n",
    "print(f(3, [[1, 3], [2, 3], [3, 1]]))"
   ]
  },
  {
   "cell_type": "code",
   "execution_count": null,
   "id": "93ffea90-3e5d-461f-8ad3-f77cc0b22d0d",
   "metadata": {},
   "outputs": [],
   "source": []
  }
 ],
 "metadata": {
  "kernelspec": {
   "display_name": "Python 3 (ipykernel)",
   "language": "python",
   "name": "python3"
  },
  "language_info": {
   "codemirror_mode": {
    "name": "ipython",
    "version": 3
   },
   "file_extension": ".py",
   "mimetype": "text/x-python",
   "name": "python",
   "nbconvert_exporter": "python",
   "pygments_lexer": "ipython3",
   "version": "3.12.4"
  }
 },
 "nbformat": 4,
 "nbformat_minor": 5
}
