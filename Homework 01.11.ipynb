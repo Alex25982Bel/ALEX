{
 "cells": [
  {
   "cell_type": "code",
   "execution_count": 1,
   "id": "2068e75e-4811-4878-922f-1d8e4854d065",
   "metadata": {},
   "outputs": [],
   "source": [
    "from tkinter import *\n",
    "from tkinter import filedialog as fd\n",
    "from pdf2docx import parse\n",
    "import pathlib\n",
    "\n",
    "\n",
    "\n",
    "def callback():\n",
    "    name = fd.askopenfilename()\n",
    "    ePath.config(state='normal')\n",
    "    ePath.delete('1', END)\n",
    "    ePath.insert('1', name)\n",
    "    ePath.config(state='readonly')\n",
    "    \n",
    "    \n",
    "\n",
    "def convert():\n",
    "    pdf_file = ePath.get()\n",
    "    word_file = pathlib.Path(pdf_file)\n",
    "    word_file = word_file.stem + '.docx'\n",
    "    parse(pdf_file, word_file)\n",
    "    Label(root, text='Конвертация завершена', fg='lime', bg='black', font='Arial 15 bold').pack(pady=10)\n",
    "\n",
    "\n",
    "\n",
    "root = Tk()\n",
    "root.geometry('500x350+300+300')\n",
    "root.title('Конвертер из PDF в Word')\n",
    "root.resizable(width=False, height=False)\n",
    "root['bg'] = 'black'\n",
    "\n",
    "\n",
    "Button(root, text='Выбрать PDF файл', font='Arial 15 bold', fg='lime', bg='black', command=callback).pack(pady=10)\n",
    "\n",
    "lbpath=Label(root, text='Путь к файлу:', fg='lime', bg='black', font='Arial 15 bold')\n",
    "lbpath.pack()\n",
    "\n",
    "\n",
    "ePath = Entry(root, width=50, state='readonly')\n",
    "ePath.pack(pady=10)\n",
    "\n",
    "\n",
    "btnConvert = Button(root, text='Конвертировать', fg='lime', bg='black', font='Arial 15 bold', command=convert).pack(pady=10)\n",
    "\n",
    "\n",
    "\n",
    "\n",
    "root.mainloop()"
   ]
  },
  {
   "cell_type": "code",
   "execution_count": null,
   "id": "57fbe211-d551-471c-942c-37b495b37cb8",
   "metadata": {},
   "outputs": [],
   "source": []
  }
 ],
 "metadata": {
  "kernelspec": {
   "display_name": "Python 3 (ipykernel)",
   "language": "python",
   "name": "python3"
  },
  "language_info": {
   "codemirror_mode": {
    "name": "ipython",
    "version": 3
   },
   "file_extension": ".py",
   "mimetype": "text/x-python",
   "name": "python",
   "nbconvert_exporter": "python",
   "pygments_lexer": "ipython3",
   "version": "3.12.4"
  }
 },
 "nbformat": 4,
 "nbformat_minor": 5
}
