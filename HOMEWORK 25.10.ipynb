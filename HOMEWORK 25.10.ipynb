{
 "cells": [
  {
   "cell_type": "code",
   "execution_count": 10,
   "id": "17afca8a-0311-473b-a3dc-1d7435273391",
   "metadata": {},
   "outputs": [
    {
     "name": "stdout",
     "output_type": "stream",
     "text": [
      "The city of New York located in USA founded in 1621 currently has a population of 8.336 millions and population density of 10881 people/km^2\n",
      "The city of Sydney located in Australia founded in 1788 currently has a population of 5.297 millions and population density of 422.52 people/km^2\n"
     ]
    }
   ],
   "source": [
    "class City():\n",
    "    # описание города\n",
    "    def __init__(self, name, location, date_of_foundation, population_size):\n",
    "        self.name = name\n",
    "        self.location = location\n",
    "        self.date_of_foundation = date_of_foundation\n",
    "        self.population_size = population_size\n",
    "    \n",
    "\n",
    "\n",
    "\n",
    "class additional_information_about_city(City):\n",
    "    def __init__(self, name, location, date_of_foundation, population_size, population_density):\n",
    "        super().__init__(name, location, date_of_foundation, population_size)\n",
    "        self.population_density = population_density\n",
    "    def information_about_city(self):\n",
    "        print(\"The city of \" + self.name + \" located in \" + self.location + \" founded in \" + self.date_of_foundation + \" currently has a population of \" + self.population_size + \" and population density of \" + self.population_density)\n",
    "\n",
    "City1 = additional_information_about_city(\"New York\", \"USA\", \"1621\", \"8.336 millions\", \"10881 people/km^2\")\n",
    "City2 = additional_information_about_city(\"Sydney\", \"Australia\", \"1788\", \"5.297 millions\", \"422.52 people/km^2\") \n",
    "\n",
    "City1.information_about_city()\n",
    "City2.information_about_city()\n",
    "\n",
    "\n",
    "\n"
   ]
  },
  {
   "cell_type": "code",
   "execution_count": null,
   "id": "94264def-24cc-4593-a674-baa36401abed",
   "metadata": {},
   "outputs": [],
   "source": []
  }
 ],
 "metadata": {
  "kernelspec": {
   "display_name": "Python 3 (ipykernel)",
   "language": "python",
   "name": "python3"
  },
  "language_info": {
   "codemirror_mode": {
    "name": "ipython",
    "version": 3
   },
   "file_extension": ".py",
   "mimetype": "text/x-python",
   "name": "python",
   "nbconvert_exporter": "python",
   "pygments_lexer": "ipython3",
   "version": "3.12.4"
  }
 },
 "nbformat": 4,
 "nbformat_minor": 5
}
