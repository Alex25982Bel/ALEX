{
 "cells": [
  {
   "cell_type": "code",
   "execution_count": 18,
   "id": "3874dfb0-27ca-49d1-95aa-0d16efc85e9a",
   "metadata": {},
   "outputs": [
    {
     "name": "stdout",
     "output_type": "stream",
     "text": [
      "0\n"
     ]
    }
   ],
   "source": [
    "\n",
    "    def prime_number(n):\n",
    "        f = 0\n",
    "        for i in range(2, int(n ** 0.5) + 1):\n",
    "            if n % i == 0:\n",
    "                f = 1  # number is not prime\n",
    "              \n",
    "        if f == 1:\n",
    "            return 0\n",
    "        else:\n",
    "            return n\n",
    "    return prime_number(n)\n",
    "    \n",
    "    a = list(prime_number(x) for x in range(2, n+1))\n",
    "    b = []    \n",
    "    for y in range(len(a)):\n",
    "        if n % y == 0:\n",
    "            while n % y == 0:\n",
    "                b.append(y)\n",
    "                n = n // y\n",
    "    return b\n",
    "print(decomposition_into_primes(30))   \n",
    "\n",
    "        \n",
    "        \n",
    "            \n",
    "            \n",
    "        \n",
    "        \n",
    "             \n",
    "             \n",
    "             \n",
    "        \n",
    "            "
   ]
  },
  {
   "cell_type": "code",
   "execution_count": 14,
   "id": "c61b659c-0a67-442d-9d7d-be022ff851de",
   "metadata": {},
   "outputs": [
    {
     "name": "stdout",
     "output_type": "stream",
     "text": [
      "13\n"
     ]
    }
   ],
   "source": [
    "def prime_number(k):\n",
    "        f = 0\n",
    "        for i in range(2, int(k ** 0.5) + 1):\n",
    "            if k % i == 0:\n",
    "                f = 1  # number is not prime\n",
    "              \n",
    "        if f == 1:\n",
    "            return 0\n",
    "        else:\n",
    "            return k\n",
    "print(prime_number(13))"
   ]
  },
  {
   "cell_type": "code",
   "execution_count": 22,
   "id": "50b809d7-2c51-4bd5-900c-8c009bad5074",
   "metadata": {},
   "outputs": [
    {
     "name": "stdout",
     "output_type": "stream",
     "text": [
      "[2, 2, 2, 3, 5]\n"
     ]
    }
   ],
   "source": [
    "def decomposition_into_primes(n):\n",
    "    i = 2\n",
    "    a = []\n",
    "    while i ** 2 <= n:\n",
    "        while n % i == 0:\n",
    "            a.append(i)\n",
    "            n //= i\n",
    "        i += 1\n",
    "    if n > 1:\n",
    "        a.append(n)\n",
    "    return a\n",
    "print(decomposition_into_primes(120))"
   ]
  },
  {
   "cell_type": "code",
   "execution_count": null,
   "id": "45553336-dc76-43a2-9668-571dc1d0878e",
   "metadata": {},
   "outputs": [],
   "source": []
  }
 ],
 "metadata": {
  "kernelspec": {
   "display_name": "Python 3 (ipykernel)",
   "language": "python",
   "name": "python3"
  },
  "language_info": {
   "codemirror_mode": {
    "name": "ipython",
    "version": 3
   },
   "file_extension": ".py",
   "mimetype": "text/x-python",
   "name": "python",
   "nbconvert_exporter": "python",
   "pygments_lexer": "ipython3",
   "version": "3.12.4"
  }
 },
 "nbformat": 4,
 "nbformat_minor": 5
}
