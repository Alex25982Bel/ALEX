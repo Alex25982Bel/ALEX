{
 "cells": [
  {
   "cell_type": "code",
   "execution_count": 4,
   "id": "999690e3-6f51-4d25-bad5-ead3914b9744",
   "metadata": {},
   "outputs": [
    {
     "name": "stdin",
     "output_type": "stream",
     "text": [
      " 4 3\n",
      " 1 2\n",
      " 1 3\n",
      " 2 4\n"
     ]
    },
    {
     "name": "stdout",
     "output_type": "stream",
     "text": [
      "True\n"
     ]
    }
   ],
   "source": [
    "n, m = list(int(x) for x in input().split())\n",
    "graph = [[] for i in range(n)]\n",
    "\n",
    "for k in range(m):\n",
    "    i, j = [int(x) - 1 for x in input().split()]\n",
    "    graph[i].append(j)\n",
    "    graph[j].append(i)\n",
    "\n",
    "\n",
    "\n",
    "color = list(0 for x in range(n))\n",
    "isBipartite = True\n",
    "\n",
    "def dfs(start):\n",
    "    for v in graph[start]:\n",
    "        if color[v] == 0:\n",
    "            color[v] = 3 - color[start]\n",
    "            dfs(v)\n",
    "        elif color[v] == color[start]:\n",
    "            global isBipartite\n",
    "            isBipartite = False\n",
    "\n",
    "\n",
    "for i in range(m):\n",
    "    if color[i] == 0:\n",
    "        color[i] = 1\n",
    "        dfs(i)\n",
    "\n",
    "print(isBipartite)  "
   ]
  }
 ],
 "metadata": {
  "kernelspec": {
   "display_name": "Python 3 (ipykernel)",
   "language": "python",
   "name": "python3"
  },
  "language_info": {
   "codemirror_mode": {
    "name": "ipython",
    "version": 3
   },
   "file_extension": ".py",
   "mimetype": "text/x-python",
   "name": "python",
   "nbconvert_exporter": "python",
   "pygments_lexer": "ipython3",
   "version": "3.12.4"
  }
 },
 "nbformat": 4,
 "nbformat_minor": 5
}
