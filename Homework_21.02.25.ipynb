{
 "cells": [
  {
   "cell_type": "code",
   "execution_count": 8,
   "id": "d72403ed-e812-4346-bbd7-db3b7598802a",
   "metadata": {},
   "outputs": [
    {
     "name": "stdout",
     "output_type": "stream",
     "text": [
      "2\n",
      "3\n",
      "-1\n"
     ]
    }
   ],
   "source": [
    "def f(n, Trust):\n",
    "\n",
    "    lst = list(0 for i in range(1, n + 2))\n",
    "\n",
    "    for (x, y) in Trust:\n",
    "        lst[x] -= 1\n",
    "        lst[y] += 1\n",
    "\n",
    "    for i in range(1, len(lst)):\n",
    "        if lst[i] == n - 1:\n",
    "            return i\n",
    "\n",
    "    return -1\n",
    "        \n",
    "print(f(2, [[1,2]]))\n",
    "print(f(3, [[1, 3], [2, 3]]))  \n",
    "print(f(3, [[1, 3], [2, 3], [3, 1]]))    "
   ]
  },
  {
   "cell_type": "code",
   "execution_count": null,
   "id": "05a0b398-e34a-43fa-8587-a135dcc1e238",
   "metadata": {},
   "outputs": [],
   "source": []
  }
 ],
 "metadata": {
  "kernelspec": {
   "display_name": "Python 3 (ipykernel)",
   "language": "python",
   "name": "python3"
  },
  "language_info": {
   "codemirror_mode": {
    "name": "ipython",
    "version": 3
   },
   "file_extension": ".py",
   "mimetype": "text/x-python",
   "name": "python",
   "nbconvert_exporter": "python",
   "pygments_lexer": "ipython3",
   "version": "3.12.4"
  }
 },
 "nbformat": 4,
 "nbformat_minor": 5
}
